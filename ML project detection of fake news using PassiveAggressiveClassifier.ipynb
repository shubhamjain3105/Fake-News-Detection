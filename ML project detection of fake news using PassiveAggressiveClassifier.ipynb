{
 "cells": [
  {
   "cell_type": "markdown",
   "metadata": {},
   "source": [
    "# Fake News Detection\n"
   ]
  },
  {
   "cell_type": "code",
   "execution_count": 2,
   "metadata": {},
   "outputs": [],
   "source": [
    "import numpy as np\n",
    "import pandas as pd\n",
    "from sklearn.model_selection import train_test_split\n",
    "from sklearn.feature_extraction.text import TfidfVectorizer\n",
    "from sklearn.linear_model import PassiveAggressiveClassifier\n",
    "from sklearn.metrics import accuracy_score,confusion_matrix"
   ]
  },
  {
   "cell_type": "code",
   "execution_count": 7,
   "metadata": {},
   "outputs": [
    {
     "data": {
      "text/html": [
       "<div>\n",
       "<style scoped>\n",
       "    .dataframe tbody tr th:only-of-type {\n",
       "        vertical-align: middle;\n",
       "    }\n",
       "\n",
       "    .dataframe tbody tr th {\n",
       "        vertical-align: top;\n",
       "    }\n",
       "\n",
       "    .dataframe thead th {\n",
       "        text-align: right;\n",
       "    }\n",
       "</style>\n",
       "<table border=\"1\" class=\"dataframe\">\n",
       "  <thead>\n",
       "    <tr style=\"text-align: right;\">\n",
       "      <th></th>\n",
       "      <th>Unnamed: 0</th>\n",
       "      <th>title</th>\n",
       "      <th>text</th>\n",
       "      <th>label</th>\n",
       "    </tr>\n",
       "  </thead>\n",
       "  <tbody>\n",
       "    <tr>\n",
       "      <th>0</th>\n",
       "      <td>8476</td>\n",
       "      <td>You Can Smell Hillary’s Fear</td>\n",
       "      <td>Daniel Greenfield, a Shillman Journalism Fello...</td>\n",
       "      <td>FAKE</td>\n",
       "    </tr>\n",
       "    <tr>\n",
       "      <th>1</th>\n",
       "      <td>10294</td>\n",
       "      <td>Watch The Exact Moment Paul Ryan Committed Pol...</td>\n",
       "      <td>Google Pinterest Digg Linkedin Reddit Stumbleu...</td>\n",
       "      <td>FAKE</td>\n",
       "    </tr>\n",
       "    <tr>\n",
       "      <th>2</th>\n",
       "      <td>3608</td>\n",
       "      <td>Kerry to go to Paris in gesture of sympathy</td>\n",
       "      <td>U.S. Secretary of State John F. Kerry said Mon...</td>\n",
       "      <td>REAL</td>\n",
       "    </tr>\n",
       "    <tr>\n",
       "      <th>3</th>\n",
       "      <td>10142</td>\n",
       "      <td>Bernie supporters on Twitter erupt in anger ag...</td>\n",
       "      <td>— Kaydee King (@KaydeeKing) November 9, 2016 T...</td>\n",
       "      <td>FAKE</td>\n",
       "    </tr>\n",
       "    <tr>\n",
       "      <th>4</th>\n",
       "      <td>875</td>\n",
       "      <td>The Battle of New York: Why This Primary Matters</td>\n",
       "      <td>It's primary day in New York and front-runners...</td>\n",
       "      <td>REAL</td>\n",
       "    </tr>\n",
       "  </tbody>\n",
       "</table>\n",
       "</div>"
      ],
      "text/plain": [
       "   Unnamed: 0                                              title  \\\n",
       "0        8476                       You Can Smell Hillary’s Fear   \n",
       "1       10294  Watch The Exact Moment Paul Ryan Committed Pol...   \n",
       "2        3608        Kerry to go to Paris in gesture of sympathy   \n",
       "3       10142  Bernie supporters on Twitter erupt in anger ag...   \n",
       "4         875   The Battle of New York: Why This Primary Matters   \n",
       "\n",
       "                                                text label  \n",
       "0  Daniel Greenfield, a Shillman Journalism Fello...  FAKE  \n",
       "1  Google Pinterest Digg Linkedin Reddit Stumbleu...  FAKE  \n",
       "2  U.S. Secretary of State John F. Kerry said Mon...  REAL  \n",
       "3  — Kaydee King (@KaydeeKing) November 9, 2016 T...  FAKE  \n",
       "4  It's primary day in New York and front-runners...  REAL  "
      ]
     },
     "execution_count": 7,
     "metadata": {},
     "output_type": "execute_result"
    }
   ],
   "source": [
    "df = pd.read_csv('news\\\\news.csv')\n",
    "df.head()"
   ]
  },
  {
   "cell_type": "code",
   "execution_count": 8,
   "metadata": {},
   "outputs": [
    {
     "data": {
      "text/plain": [
       "(6335, 4)"
      ]
     },
     "execution_count": 8,
     "metadata": {},
     "output_type": "execute_result"
    }
   ],
   "source": [
    "df.shape"
   ]
  },
  {
   "cell_type": "code",
   "execution_count": 10,
   "metadata": {},
   "outputs": [
    {
     "data": {
      "text/plain": [
       "25340"
      ]
     },
     "execution_count": 10,
     "metadata": {},
     "output_type": "execute_result"
    }
   ],
   "source": [
    "df.size"
   ]
  },
  {
   "cell_type": "code",
   "execution_count": 13,
   "metadata": {},
   "outputs": [
    {
     "data": {
      "text/plain": [
       "pandas.core.frame.DataFrame"
      ]
     },
     "execution_count": 13,
     "metadata": {},
     "output_type": "execute_result"
    }
   ],
   "source": [
    "type(df)"
   ]
  },
  {
   "cell_type": "code",
   "execution_count": 15,
   "metadata": {},
   "outputs": [
    {
     "data": {
      "text/plain": [
       "pandas.core.series.Series"
      ]
     },
     "execution_count": 15,
     "metadata": {},
     "output_type": "execute_result"
    }
   ],
   "source": [
    "type(df['title'])"
   ]
  },
  {
   "cell_type": "code",
   "execution_count": 17,
   "metadata": {},
   "outputs": [
    {
     "data": {
      "text/plain": [
       "6335"
      ]
     },
     "execution_count": 17,
     "metadata": {},
     "output_type": "execute_result"
    }
   ],
   "source": [
    "all_labels = df.label\n",
    "all_labels.size"
   ]
  },
  {
   "cell_type": "code",
   "execution_count": 21,
   "metadata": {},
   "outputs": [],
   "source": [
    "#split dataset into train and test dataset with 80% train data and 20% test data\n",
    "X_train, X_test, y_train, y_test = train_test_split(df['text'], all_labels, test_size = 0.2, random_state = 7)"
   ]
  },
  {
   "cell_type": "code",
   "execution_count": 22,
   "metadata": {},
   "outputs": [
    {
     "data": {
      "text/plain": [
       "0       Daniel Greenfield, a Shillman Journalism Fello...\n",
       "1       Google Pinterest Digg Linkedin Reddit Stumbleu...\n",
       "2       U.S. Secretary of State John F. Kerry said Mon...\n",
       "3       — Kaydee King (@KaydeeKing) November 9, 2016 T...\n",
       "4       It's primary day in New York and front-runners...\n",
       "5         \\nI’m not an immigrant, but my grandparents ...\n",
       "6       Share This Baylee Luciani (left), Screenshot o...\n",
       "7       A Czech stockbroker who saved more than 650 Je...\n",
       "8       Hillary Clinton and Donald Trump made some ina...\n",
       "9       Iranian negotiators reportedly have made a las...\n",
       "10      CEDAR RAPIDS, Iowa — “I had one of the most wo...\n",
       "11      Donald Trump’s organizational problems have go...\n",
       "12      Click Here To Learn More About Alexandra's Per...\n",
       "13      October 31, 2016 at 4:52 am \\nPretty factual e...\n",
       "14      Killing Obama administration rules, dismantlin...\n",
       "15      As more women move into high offices, they oft...\n",
       "16      Shocking! Michele Obama & Hillary Caught Glamo...\n",
       "17      0 \\nHillary Clinton has barely just lost the p...\n",
       "18      Washington (CNN) For months, the White House a...\n",
       "19      While paging through Pew's best data visualiza...\n",
       "20      With little fanfare this fall, the New York de...\n",
       "21      November 13, 2016 By 21wire Leave a Comment \\n...\n",
       "22      Hillary Clinton told a Staten Island crowd tod...\n",
       "23      Mitch McConnell has an unusual admonition for ...\n",
       "24      Mises.org November 1, 2016 Inferno is a great ...\n",
       "25      Washington (CNN) The faction of the GOP that i...\n",
       "26      Meanwhile, Democrat Bernie Sanders picked up m...\n",
       "27      After a week of nonstop criticism from Democra...\n",
       "28      If you want a glimpse into a presidential cand...\n",
       "29      Syrian War Report – October 31, 2016: Al-Nusra...\n",
       "                              ...                        \n",
       "6305    Print \\n[Ed. – Now teaching the gospel of raci...\n",
       "6306    Sound too “strange” to be true? We have proof!...\n",
       "6307    US abstains from UN vote calling for end to Cu...\n",
       "6308    Tuesday 1 November 2016 by Formelia Alberthine...\n",
       "6309    When Susan E. Rice took over as President Obam...\n",
       "6310    (CNN) ISIS has claimed responsibility for the ...\n",
       "6311    It was inevitable that liberals would end up b...\n",
       "6312    By Kalee Brown\\nWhile I was at university, man...\n",
       "6313    Email \\nDonald Trump is again riling up his vo...\n",
       "6314    BREAKING: Trump Jumps in FL, Takes 4 Point Lea...\n",
       "6315    Police in Charleston, S.C., say a man they sus...\n",
       "6316    Silver of FiveThirtyEight.com has laid out fou...\n",
       "6317    This post was originally published on this sit...\n",
       "6318    BREAKING : Hillary Campaign Manager Deletes hi...\n",
       "6319    Ted Cruz took first prize in the Iowa caucuses...\n",
       "6320    Posted on November 4, 2016 by Charles Hugh Smi...\n",
       "6321    Charlie Baker , Massachusetts (2015–present)[3...\n",
       "6322    vladimir putin , Valdai , sochi , RBTH Daily R...\n",
       "6323    ROME —  U.S. Democratic presidential candidate...\n",
       "6324    Most conservatives who oppose marriage equalit...\n",
       "6325    Written by Peter Van Buren   venerable New Yor...\n",
       "6326    DOJ COMPLAINT: Comey Under Fire Over Partisan ...\n",
       "6327    The freshman senator from Georgia quoted scrip...\n",
       "6328                                                     \n",
       "6329    Julian Assange has claimed the Hillary Clinton...\n",
       "6330    The State Department told the Republican Natio...\n",
       "6331    The ‘P’ in PBS Should Stand for ‘Plutocratic’ ...\n",
       "6332     Anti-Trump Protesters Are Tools of the Oligar...\n",
       "6333    ADDIS ABABA, Ethiopia —President Obama convene...\n",
       "6334    Jeb Bush Is Suddenly Attacking Trump. Here's W...\n",
       "Name: text, Length: 6335, dtype: object"
      ]
     },
     "execution_count": 22,
     "metadata": {},
     "output_type": "execute_result"
    }
   ],
   "source": [
    "df['text']"
   ]
  },
  {
   "cell_type": "code",
   "execution_count": 28,
   "metadata": {},
   "outputs": [],
   "source": [
    "tfidf_vectorizer = TfidfVectorizer(stop_words='english',max_df=0.7)\n",
    "train_tfidf = tfidf_vectorizer.fit_transform(X_train)\n",
    "test_tfidf = tfidf_vectorizer.transform(X_test)"
   ]
  },
  {
   "cell_type": "code",
   "execution_count": 29,
   "metadata": {},
   "outputs": [],
   "source": [
    "pac_model = PassiveAggressiveClassifier(max_iter=50)\n",
    "pac_model.fit(train_tfidf, y_train)\n",
    "y_pred = pac_model.predict(test_tfidf)"
   ]
  },
  {
   "cell_type": "code",
   "execution_count": 33,
   "metadata": {},
   "outputs": [
    {
     "name": "stdout",
     "output_type": "stream",
     "text": [
      "Accuracy is: 92.82%\n"
     ]
    }
   ],
   "source": [
    "score  =accuracy_score(y_pred, y_test)\n",
    "print(f'Accuracy is: {round(score*100,2)}%')"
   ]
  },
  {
   "cell_type": "code",
   "execution_count": 36,
   "metadata": {},
   "outputs": [
    {
     "data": {
      "text/plain": [
       "array([[590,  43],\n",
       "       [ 48, 586]], dtype=int64)"
      ]
     },
     "execution_count": 36,
     "metadata": {},
     "output_type": "execute_result"
    }
   ],
   "source": [
    "confusion_matrix(y_pred, y_test, labels=['FAKE', 'REAL'])"
   ]
  },
  {
   "cell_type": "code",
   "execution_count": null,
   "metadata": {},
   "outputs": [],
   "source": []
  }
 ],
 "metadata": {
  "kernelspec": {
   "display_name": "Python 3",
   "language": "python",
   "name": "python3"
  },
  "language_info": {
   "codemirror_mode": {
    "name": "ipython",
    "version": 3
   },
   "file_extension": ".py",
   "mimetype": "text/x-python",
   "name": "python",
   "nbconvert_exporter": "python",
   "pygments_lexer": "ipython3",
   "version": "3.6.5"
  }
 },
 "nbformat": 4,
 "nbformat_minor": 2
}
